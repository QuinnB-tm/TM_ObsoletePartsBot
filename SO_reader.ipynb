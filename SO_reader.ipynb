{
 "cells": [
  {
   "cell_type": "code",
   "execution_count": 2,
   "id": "e0921549",
   "metadata": {},
   "outputs": [
    {
     "name": "stdout",
     "output_type": "stream",
     "text": [
      "\n",
      "\n",
      "\n"
     ]
    },
    {
     "data": {
      "text/plain": [
       "''"
      ]
     },
     "execution_count": 2,
     "metadata": {},
     "output_type": "execute_result"
    }
   ],
   "source": [
    "# Takes the input and searches for anything that's within brackets.\n",
    "# I only wrote this because I wanted something easy to test the python\n",
    "# compiler I'm using.\n",
    "\n",
    "s = ''\n",
    "last_input = ' '\n",
    "current_input = ' '\n",
    "\n",
    "while not (last_input == '' and current_input == ''):\n",
    "    last_input = current_input\n",
    "    current_input = input()\n",
    "    s += current_input\n",
    "\n",
    "pns = []\n",
    "logging = False\n",
    "log = ''\n",
    "for i in list(s):\n",
    "    if i == '[':\n",
    "        logging = True\n",
    "        continue\n",
    "    elif i == ']':\n",
    "        logging = False\n",
    "        pns += [log]\n",
    "        log = ''\n",
    "    \n",
    "    if logging:\n",
    "        log += i\n",
    "\n",
    "for i in pns:\n",
    "    print(i)\n",
    "\n",
    "    \n",
    "input()# waiting for user to close the program"
   ]
  },
  {
   "cell_type": "code",
   "execution_count": null,
   "id": "1c4841d6",
   "metadata": {},
   "outputs": [],
   "source": []
  },
  {
   "cell_type": "code",
   "execution_count": null,
   "id": "b7c9b56e",
   "metadata": {},
   "outputs": [],
   "source": []
  },
  {
   "cell_type": "code",
   "execution_count": null,
   "id": "ac83ffdb",
   "metadata": {},
   "outputs": [],
   "source": []
  },
  {
   "cell_type": "code",
   "execution_count": null,
   "id": "52df5f1c",
   "metadata": {},
   "outputs": [],
   "source": []
  },
  {
   "cell_type": "code",
   "execution_count": null,
   "id": "ba9b7867",
   "metadata": {},
   "outputs": [],
   "source": []
  },
  {
   "cell_type": "code",
   "execution_count": null,
   "id": "1bb78baa",
   "metadata": {},
   "outputs": [],
   "source": []
  },
  {
   "cell_type": "code",
   "execution_count": null,
   "id": "ea3451e8",
   "metadata": {},
   "outputs": [],
   "source": []
  }
 ],
 "metadata": {
  "kernelspec": {
   "display_name": "Python 3 (ipykernel)",
   "language": "python",
   "name": "python3"
  },
  "language_info": {
   "codemirror_mode": {
    "name": "ipython",
    "version": 3
   },
   "file_extension": ".py",
   "mimetype": "text/x-python",
   "name": "python",
   "nbconvert_exporter": "python",
   "pygments_lexer": "ipython3",
   "version": "3.9.12"
  }
 },
 "nbformat": 4,
 "nbformat_minor": 5
}
